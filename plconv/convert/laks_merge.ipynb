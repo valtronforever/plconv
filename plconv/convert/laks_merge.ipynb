{
 "cells": [
  {
   "cell_type": "code",
   "execution_count": 13,
   "id": "2d05dd38-efec-49d1-90c4-ecd559576605",
   "metadata": {},
   "outputs": [],
   "source": [
    "import pandas as pd\n",
    "import numpy as np\n",
    "from IPython.display import display\n",
    "from pathlib import Path\n",
    "import xlrd\n",
    "\n",
    "in_0 = Path('laks') / '0.xls'\n",
    "in_2 = Path('laks') / '2.xls'\n",
    "in_order = Path('laks')/ 'order.xls'\n",
    "\n",
    "try:\n",
    "    xl_0 = pd.ExcelFile(in_0)\n",
    "except UnicodeDecodeError:\n",
    "    xlrd_book_0 = xlrd.open_workbook(in_0, on_demand=True, encoding_override=\"cp1251\")\n",
    "    xl_0 = pd.ExcelFile(xlrd_book_0)\n",
    "\n",
    "try:\n",
    "    xl_2 = pd.ExcelFile(in_2)\n",
    "except UnicodeDecodeError:\n",
    "    xlrd_book_2 = xlrd.open_workbook(in_2, on_demand=True, encoding_override=\"cp1251\")\n",
    "    xl_2 = pd.ExcelFile(xlrd_book_2)\n",
    "\n",
    "try:\n",
    "    xl_order = pd.ExcelFile(in_order)\n",
    "except UnicodeDecodeError:\n",
    "    xlrd_book_order = xlrd.open_workbook(in_order, on_demand=True, encoding_override=\"cp1251\")\n",
    "    xl_order = pd.ExcelFile(xlrd_book_order)\n",
    "\n",
    "    \n",
    "df_0 = xl_0.parse(header=1)\n",
    "df_2 = xl_2.parse(header=1)\n",
    "df_order = xl_order.parse()\n",
    "\n",
    "result_df = df_0.join(df_2[['Код', 'Цена LGOTA']].set_index('Код'), on='Код')\n",
    "result_df = result_df.join(df_order.set_index('code'), on='Код')\n",
    "\n",
    "result_df = result_df[result_df['count'].notnull()]\n",
    "\n",
    "#display(result_df)\n",
    "\n",
    "out_file_name = \"res.xls\"\n",
    "result_df.to_excel(Path('laks') / out_file_name, index=False)\n",
    "\n"
   ]
  },
  {
   "cell_type": "code",
   "execution_count": null,
   "id": "02f8b5e7-5b7e-418e-9989-9ec8296588a6",
   "metadata": {},
   "outputs": [],
   "source": []
  }
 ],
 "metadata": {
  "kernelspec": {
   "display_name": "Python 3 (ipykernel)",
   "language": "python",
   "name": "python3"
  },
  "language_info": {
   "codemirror_mode": {
    "name": "ipython",
    "version": 3
   },
   "file_extension": ".py",
   "mimetype": "text/x-python",
   "name": "python",
   "nbconvert_exporter": "python",
   "pygments_lexer": "ipython3",
   "version": "3.8.10"
  }
 },
 "nbformat": 4,
 "nbformat_minor": 5
}
